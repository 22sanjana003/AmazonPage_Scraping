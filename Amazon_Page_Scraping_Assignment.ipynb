{
 "cells": [
  {
   "cell_type": "code",
   "execution_count": null,
   "id": "e54a6e8e",
   "metadata": {},
   "outputs": [
    {
     "name": "stdout",
     "output_type": "stream",
     "text": [
      "503\n",
      "503\n",
      "503\n",
      "503\n",
      "503\n",
      "503\n",
      "503\n",
      "503\n",
      "503\n",
      "503\n",
      "503\n",
      "503\n",
      "200\n",
      "503\n",
      "200\n",
      "503\n",
      "503\n",
      "200\n"
     ]
    }
   ],
   "source": [
    "import requests\n",
    "import csv\n",
    "from bs4 import BeautifulSoup\n",
    "\n",
    "page_url='https://www.amazon.in/s?k=bags&crid=2M096C61O4MLT&qid=1653308124&sprefix=ba%2Caps%2C283&ref=sr_pg_'\n",
    "product_details=[]\n",
    "for page in range(1,21):\n",
    "    r=requests.get(page_url+str(page))\n",
    "    print(r.status_code)\n",
    "    soup = BeautifulSoup(r.content, 'html.parser')     \n",
    "    divisions=set(soup.find_all('div',{'class':'sg-col-inner'}))\n",
    "        \n",
    "    for i in divisions:\n",
    "        h=i.find('h2',{'class':'a-size-mini a-spacing-none a-color-base s-line-clamp-2'})\n",
    "        s1=i.find('span',{'class':'a-offscreen'}) \n",
    "        s2=i.find('span',{'class':'a-icon-alt'})\n",
    "        s3=i.find('span',{'class':'a-size-base s-underline-text'})\n",
    "        \n",
    "        if h is not None:\n",
    "            title=h.a.text\n",
    "            url='https://amazon.in'+h.a.get('href')\n",
    "            price=s1.text\n",
    "            rating=s2.text\n",
    "            review_count=s3.text\n",
    "            \n",
    "            r1=requests.get(url)\n",
    "            soup1=BeautifulSoup(r1.content,'html.parser') \n",
    "            \n",
    "            div=soup1.find('div',{'id':'productDescription'})\n",
    "            table=soup1.find('table',{'id':'productDetails_detailBullets_sections1'})\n",
    "            \n",
    "            description=\" \"\n",
    "            asin=\" \"\n",
    "            Manufacturer=\" \"\n",
    "            \n",
    "            if div is not None:\n",
    "                para=div.p\n",
    "                if para is not None:\n",
    "                    description=para.text\n",
    "                \n",
    "            if table is not None:\n",
    "                asin=table.contents[1].td.text\n",
    "                Manufacturer=table.contents[9].td.text\n",
    "            else:\n",
    "                div3=soup1.find('div',{'id':'detailBullets_feature_div'})\n",
    "                if div3 is not None:\n",
    "                    asin=div3.ul.contents[7].span.contents[3].text\n",
    "                    Manufacturer=div3.ul.contents[5].span.contents[3].text     \n",
    "              \n",
    "            product_details.append((title,price,rating,review_count,url,asin,Manufacturer,description))       "
   ]
  },
  {
   "cell_type": "code",
   "execution_count": null,
   "id": "81dfc45b",
   "metadata": {},
   "outputs": [],
   "source": [
    "with open('Python_Assignment.csv','w',newline='',encoding='utf-8') as f:\n",
    "    writer=csv.writer(f)\n",
    "    writer.writerow(['title', 'price', 'rating', 'review_count', 'url','asin','Manufacturer','description'])\n",
    "    writer.writerows(set(product_details))     "
   ]
  },
  {
   "cell_type": "code",
   "execution_count": null,
   "id": "2eeb50cb",
   "metadata": {},
   "outputs": [],
   "source": []
  }
 ],
 "metadata": {
  "kernelspec": {
   "display_name": "Python 3 (ipykernel)",
   "language": "python",
   "name": "python3"
  },
  "language_info": {
   "codemirror_mode": {
    "name": "ipython",
    "version": 3
   },
   "file_extension": ".py",
   "mimetype": "text/x-python",
   "name": "python",
   "nbconvert_exporter": "python",
   "pygments_lexer": "ipython3",
   "version": "3.9.12"
  }
 },
 "nbformat": 4,
 "nbformat_minor": 5
}
